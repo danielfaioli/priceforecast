{
 "cells": [
  {
   "cell_type": "code",
   "execution_count": null,
   "metadata": {},
   "outputs": [],
   "source": [
    "import json \n",
    "import os \n",
    "\n",
    "import pandas as pd \n",
    "import numpy as np\n",
    "import datetime as dt\n",
    "\n",
    "import statsmodels\n",
    "from statsmodels.tsa.stattools import adfuller\n",
    "from statsmodels.tsa.arima_model import ARIMA\n",
    "\n",
    "from sklearn.metrics import mean_squared_error\n",
    "from sklearn.metrics import mean_absolute_error\n",
    "from sklearn.metrics import r2_score\n",
    "\n",
    "from dateutil.parser import parse\n",
    "\n",
    "\n",
    "\n",
    "import matplotlib.pyplot as plt\n",
    "import matplotlib.dates as mdates\n",
    "import matplotlib.ticker as ticker\n",
    "import plotly.graph_objects as go\n",
    "from plotly.subplots import make_subplots\n",
    "import seaborn as sns\n",
    "\n",
    "sns.set()\n",
    "pd.set_option('display.max_colwidth', None)"
   ]
  },
  {
   "cell_type": "markdown",
   "metadata": {},
   "source": [
    "# IMPORT AND PREPROCESS"
   ]
  },
  {
   "cell_type": "code",
   "execution_count": null,
   "metadata": {
    "scrolled": false
   },
   "outputs": [],
   "source": [
    "import requests as r \n",
    "\n",
    "def retrieve_dataset(series:str, frequency:str, area:str, indicator:str, unit:str):\n",
    "    \"\"\"\n",
    "    This function retrieves data from IMF dataservices API\n",
    "    \n",
    "    series: The series code \n",
    "    frequency: The dataset frequency\n",
    "    area: The data region\n",
    "    indicator: The Indicator code\n",
    "    unit: The data measurement unit\n",
    "    \"\"\"\n",
    "\n",
    "    url = 'http://dataservices.imf.org/REST/SDMX_JSON.svc/'\n",
    "    key = f'CompactData/{series}/{frequency}.{area}.{indicator}.{unit}'\n",
    "    \n",
    "    data = r.get(f'{url}{key}').json()\n",
    "    \n",
    "    tmp = data['CompactData']['DataSet']['Series']\n",
    "\n",
    "    df = pd.DataFrame({tmp['@COMMODITY'] : {pd.to_datetime(i['@TIME_PERIOD']) : \n",
    "         round(float(i['@OBS_VALUE']), 2) for i in tmp['Obs']}})\n",
    "       \n",
    "    return df \n",
    "\n",
    "copper_ = {\n",
    "    'series': \"PCPS\",\n",
    "    'frequency': \"M\",\n",
    "    'area': \"W00\",\n",
    "    'indicator': \"PCOPP\",\n",
    "    'unit': \"USD\"\n",
    "}\n",
    "\n",
    "oil_ = {\n",
    "    'series': \"PCPS\",\n",
    "    'frequency': \"M\",\n",
    "    'area': \"W00\",\n",
    "    'indicator': \"POILBRE\",\n",
    "    'unit': \"USD\"\n",
    "}\n",
    "\n",
    "\n",
    "df_copper = retrieve_dataset(copper_['series'],\n",
    "                             copper_['frequency'],\n",
    "                             copper_['area'],\n",
    "                             copper_['indicator'],\n",
    "                             copper_['unit'])\n",
    "\n",
    "df_oil = retrieve_dataset(oil_['series'],\n",
    "                             oil_['frequency'],\n",
    "                             oil_['area'],\n",
    "                             oil_['indicator'],\n",
    "                             oil_['unit'])\n",
    "\n",
    "print('\\nCOPPER')\n",
    "print(df_copper.info())\n",
    "\n",
    "print('\\nOIL')\n",
    "print(df_oil.info())"
   ]
  },
  {
   "cell_type": "code",
   "execution_count": null,
   "metadata": {},
   "outputs": [],
   "source": [
    "#COPPER\n",
    "\n",
    "df_copper.head()"
   ]
  },
  {
   "cell_type": "code",
   "execution_count": null,
   "metadata": {},
   "outputs": [],
   "source": [
    "#cheking for nulls \n",
    "sns.heatmap(df_copper.isnull(), cmap='viridis')"
   ]
  },
  {
   "cell_type": "code",
   "execution_count": null,
   "metadata": {},
   "outputs": [],
   "source": [
    "#OIL\n",
    "\n",
    "df_oil.head()\n"
   ]
  },
  {
   "cell_type": "code",
   "execution_count": null,
   "metadata": {},
   "outputs": [],
   "source": [
    "#cheking for nulls \n",
    "sns.heatmap(df_oil.isnull(), cmap='viridis')"
   ]
  },
  {
   "cell_type": "code",
   "execution_count": null,
   "metadata": {},
   "outputs": [],
   "source": [
    "df = pd.merge(df_copper, df_oil, how='inner', right_index=True, left_index=True)\n",
    "\n",
    "col_map = {\n",
    "    \"PCOPP\": 'COPPER_USD_TON',\n",
    "    \"POILBRE\": 'BRENT_OIL_USD_BLL'\n",
    "}\n",
    "\n",
    "df = df.rename(columns=col_map)\n",
    "\n",
    "df.head()"
   ]
  },
  {
   "cell_type": "code",
   "execution_count": null,
   "metadata": {},
   "outputs": [],
   "source": [
    "print(df.info())\n",
    "\n",
    "sns.heatmap(df.isnull(), cmap='viridis')"
   ]
  },
  {
   "cell_type": "markdown",
   "metadata": {},
   "source": [
    "# PLOT SERIES"
   ]
  },
  {
   "cell_type": "code",
   "execution_count": null,
   "metadata": {},
   "outputs": [],
   "source": [
    "fig = go.Figure()\n",
    "\n",
    "fig.add_trace(go.Scatter(\n",
    "    x=df.index,\n",
    "    y=df.COPPER_USD_TON\n",
    "                        ))\n",
    "\n",
    "fig.update_layout(legend_title_text = \"COPPER_USD_TON\")\n",
    "fig.update_xaxes(title_text=\"Month\")\n",
    "fig.update_yaxes(title_text=\"USD per TON\")\n",
    "\n",
    "fig.show()\n"
   ]
  },
  {
   "cell_type": "code",
   "execution_count": null,
   "metadata": {},
   "outputs": [],
   "source": [
    "fig = go.Figure()\n",
    "\n",
    "fig.add_trace(go.Scatter(\n",
    "    x=df.index,\n",
    "    y=df.BRENT_OIL_USD_BLL\n",
    "                        ))\n",
    "\n",
    "fig.update_layout(legend_title_text = \"BRENT_OIL_USD_BLL\")\n",
    "fig.update_xaxes(title_text=\"Month\")\n",
    "fig.update_yaxes(title_text=\"USD per BARELL\")\n",
    "\n",
    "fig.show()\n"
   ]
  },
  {
   "cell_type": "code",
   "execution_count": null,
   "metadata": {
    "scrolled": false
   },
   "outputs": [],
   "source": [
    "# Box plot of Years Averages\n",
    "\n",
    "fig,axs = plt.subplots(ncols=2, nrows=1, figsize=(16,8))\n",
    "\n",
    "axs = axs.ravel()\n",
    "\n",
    "df['year'] = df.index.year\n",
    "\n",
    "sns.boxplot(y='COPPER_USD_TON', x='year', ax=axs[0], data=df)\n",
    "plt.setp(axs[0].get_xticklabels(), rotation = (90), fontsize = 10, ha='right')\n",
    "\n",
    "sns.boxplot(y='BRENT_OIL_USD_BLL', x='year', ax=axs[1], data=df)\n",
    "plt.setp(axs[1].get_xticklabels(), rotation = (90), fontsize = 10, ha='right')\n",
    "\n",
    "plt.plot()"
   ]
  },
  {
   "cell_type": "code",
   "execution_count": null,
   "metadata": {},
   "outputs": [],
   "source": [
    "from plotly.subplots import make_subplots\n",
    "\n",
    "copper_ma = df.COPPER_USD_TON.rolling(12).mean()\n",
    "oil_ma = df.BRENT_OIL_USD_BLL.rolling(12).mean()\n",
    "\n",
    "fig = make_subplots(rows=1, cols=2)\n",
    "\n",
    "fig.add_trace(\n",
    "    go.Scatter(x=copper_ma.index, y=copper_ma.values),\n",
    "    row=1, col=1\n",
    ")\n",
    "\n",
    "fig.add_trace(\n",
    "    go.Scatter(x=oil_ma.index, y=oil_ma.values),\n",
    "    row=1, col=2\n",
    ")\n",
    "\n",
    "fig.update_layout(height=600, width=800, title_text=\"Side By Side Subplots\")\n",
    "fig.show()"
   ]
  },
  {
   "cell_type": "code",
   "execution_count": null,
   "metadata": {},
   "outputs": [],
   "source": [
    "copper_ma.values"
   ]
  },
  {
   "cell_type": "markdown",
   "metadata": {},
   "source": [
    "- Existe uma tendência de alta nos preços, sobretudo a partir de 2005, que pode ser observada nas duas séries;\n",
    "\n",
    "- A partir de 2005, observa-se maior volatilidade nos preços anuais, com grande dispersão das distribuições dos preços;\n",
    "\n",
    "- A partir de 2011, em um \"ciclo\" menor existe uma tendência de queda nos preços anuais, mantendo patamares elevados\n"
   ]
  }
 ],
 "metadata": {
  "kernelspec": {
   "display_name": "Python [conda env:priceforecast] *",
   "language": "python",
   "name": "conda-env-priceforecast-py"
  },
  "language_info": {
   "codemirror_mode": {
    "name": "ipython",
    "version": 3
   },
   "file_extension": ".py",
   "mimetype": "text/x-python",
   "name": "python",
   "nbconvert_exporter": "python",
   "pygments_lexer": "ipython3",
   "version": "3.7.7"
  }
 },
 "nbformat": 4,
 "nbformat_minor": 4
}
